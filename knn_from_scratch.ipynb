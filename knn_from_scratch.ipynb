{
 "cells": [
  {
   "cell_type": "code",
   "execution_count": 1,
   "metadata": {},
   "outputs": [],
   "source": [
    "import pandas as pd"
   ]
  },
  {
   "cell_type": "code",
   "execution_count": 2,
   "metadata": {},
   "outputs": [],
   "source": [
    "df = pd.read_csv('iris.data',header=None)"
   ]
  },
  {
   "cell_type": "code",
   "execution_count": 3,
   "metadata": {},
   "outputs": [],
   "source": [
    "df.columns =['SLength','SWidth','PLength','Pwidth','class']"
   ]
  },
  {
   "cell_type": "code",
   "execution_count": 4,
   "metadata": {},
   "outputs": [
    {
     "name": "stderr",
     "output_type": "stream",
     "text": [
      "C:\\Users\\jerri\\AppData\\Local\\Temp\\ipykernel_2408\\1468863356.py:3: FutureWarning: Downcasting behavior in `replace` is deprecated and will be removed in a future version. To retain the old behavior, explicitly call `result.infer_objects(copy=False)`. To opt-in to the future behavior, set `pd.set_option('future.no_silent_downcasting', True)`\n",
      "  df.replace('Iris-virginica',2,inplace=True)\n"
     ]
    },
    {
     "data": {
      "text/plain": [
       "0      0\n",
       "1      0\n",
       "2      0\n",
       "3      0\n",
       "4      0\n",
       "      ..\n",
       "145    2\n",
       "146    2\n",
       "147    2\n",
       "148    2\n",
       "149    2\n",
       "Name: class, Length: 150, dtype: int32"
      ]
     },
     "execution_count": 4,
     "metadata": {},
     "output_type": "execute_result"
    }
   ],
   "source": [
    "df.replace('Iris-setosa',0,inplace=True)\n",
    "df.replace('Iris-versicolor',1,inplace=True)\n",
    "df.replace('Iris-virginica',2,inplace=True)\n",
    "df['class'].astype(int)"
   ]
  },
  {
   "cell_type": "code",
   "execution_count": 5,
   "metadata": {},
   "outputs": [],
   "source": [
    "X= df.drop(columns=['class'])\n",
    "y =df['class']"
   ]
  },
  {
   "cell_type": "code",
   "execution_count": 6,
   "metadata": {},
   "outputs": [
    {
     "data": {
      "text/plain": [
       "SLength    float64\n",
       "SWidth     float64\n",
       "PLength    float64\n",
       "Pwidth     float64\n",
       "class        int64\n",
       "dtype: object"
      ]
     },
     "execution_count": 6,
     "metadata": {},
     "output_type": "execute_result"
    }
   ],
   "source": [
    "df.dtypes"
   ]
  },
  {
   "cell_type": "code",
   "execution_count": 7,
   "metadata": {},
   "outputs": [],
   "source": [
    "from sklearn.model_selection import train_test_split\n",
    "X_train_val,X_test,y_train_val,y_test =train_test_split(\n",
    "    X,y,test_size=0.15,random_state=42\n",
    ")"
   ]
  },
  {
   "cell_type": "markdown",
   "metadata": {},
   "source": [
    "KNN algorithm from scratch"
   ]
  },
  {
   "cell_type": "code",
   "execution_count": 8,
   "metadata": {},
   "outputs": [],
   "source": [
    "#stratifies splitting\n",
    "from sklearn.model_selection import StratifiedShuffleSplit\n",
    "knn_split = StratifiedShuffleSplit(n_splits=1,test_size=0.05,random_state=42)\n"
   ]
  },
  {
   "cell_type": "code",
   "execution_count": 9,
   "metadata": {},
   "outputs": [],
   "source": [
    "X=df.drop(columns='class')\n",
    "y=df['class']\n",
    "for train_idx,test_idx in knn_split.split(X,y):\n",
    "    X_train,X_test = X.iloc[train_idx], X.iloc[test_idx]\n",
    "    y_train,y_test = y.iloc[train_idx], y.iloc[test_idx]"
   ]
  },
  {
   "cell_type": "code",
   "execution_count": null,
   "metadata": {},
   "outputs": [
    {
     "data": {
      "text/html": [
       "<div>\n",
       "<style scoped>\n",
       "    .dataframe tbody tr th:only-of-type {\n",
       "        vertical-align: middle;\n",
       "    }\n",
       "\n",
       "    .dataframe tbody tr th {\n",
       "        vertical-align: top;\n",
       "    }\n",
       "\n",
       "    .dataframe thead th {\n",
       "        text-align: right;\n",
       "    }\n",
       "</style>\n",
       "<table border=\"1\" class=\"dataframe\">\n",
       "  <thead>\n",
       "    <tr style=\"text-align: right;\">\n",
       "      <th></th>\n",
       "      <th>SLength</th>\n",
       "      <th>SWidth</th>\n",
       "      <th>PLength</th>\n",
       "      <th>Pwidth</th>\n",
       "      <th>class</th>\n",
       "    </tr>\n",
       "  </thead>\n",
       "  <tbody>\n",
       "    <tr>\n",
       "      <th>30</th>\n",
       "      <td>4.8</td>\n",
       "      <td>3.1</td>\n",
       "      <td>1.6</td>\n",
       "      <td>0.2</td>\n",
       "      <td>0</td>\n",
       "    </tr>\n",
       "    <tr>\n",
       "      <th>15</th>\n",
       "      <td>5.7</td>\n",
       "      <td>4.4</td>\n",
       "      <td>1.5</td>\n",
       "      <td>0.4</td>\n",
       "      <td>0</td>\n",
       "    </tr>\n",
       "    <tr>\n",
       "      <th>104</th>\n",
       "      <td>6.5</td>\n",
       "      <td>3.0</td>\n",
       "      <td>5.8</td>\n",
       "      <td>2.2</td>\n",
       "      <td>2</td>\n",
       "    </tr>\n",
       "    <tr>\n",
       "      <th>6</th>\n",
       "      <td>4.6</td>\n",
       "      <td>3.4</td>\n",
       "      <td>1.4</td>\n",
       "      <td>0.3</td>\n",
       "      <td>0</td>\n",
       "    </tr>\n",
       "    <tr>\n",
       "      <th>91</th>\n",
       "      <td>6.1</td>\n",
       "      <td>3.0</td>\n",
       "      <td>4.6</td>\n",
       "      <td>1.4</td>\n",
       "      <td>1</td>\n",
       "    </tr>\n",
       "    <tr>\n",
       "      <th>...</th>\n",
       "      <td>...</td>\n",
       "      <td>...</td>\n",
       "      <td>...</td>\n",
       "      <td>...</td>\n",
       "      <td>...</td>\n",
       "    </tr>\n",
       "    <tr>\n",
       "      <th>99</th>\n",
       "      <td>5.7</td>\n",
       "      <td>2.8</td>\n",
       "      <td>4.1</td>\n",
       "      <td>1.3</td>\n",
       "      <td>1</td>\n",
       "    </tr>\n",
       "    <tr>\n",
       "      <th>72</th>\n",
       "      <td>6.3</td>\n",
       "      <td>2.5</td>\n",
       "      <td>4.9</td>\n",
       "      <td>1.5</td>\n",
       "      <td>1</td>\n",
       "    </tr>\n",
       "    <tr>\n",
       "      <th>49</th>\n",
       "      <td>5.0</td>\n",
       "      <td>3.3</td>\n",
       "      <td>1.4</td>\n",
       "      <td>0.2</td>\n",
       "      <td>0</td>\n",
       "    </tr>\n",
       "    <tr>\n",
       "      <th>21</th>\n",
       "      <td>5.1</td>\n",
       "      <td>3.7</td>\n",
       "      <td>1.5</td>\n",
       "      <td>0.4</td>\n",
       "      <td>0</td>\n",
       "    </tr>\n",
       "    <tr>\n",
       "      <th>45</th>\n",
       "      <td>4.8</td>\n",
       "      <td>3.0</td>\n",
       "      <td>1.4</td>\n",
       "      <td>0.3</td>\n",
       "      <td>0</td>\n",
       "    </tr>\n",
       "  </tbody>\n",
       "</table>\n",
       "<p>142 rows × 5 columns</p>\n",
       "</div>"
      ],
      "text/plain": [
       "     SLength  SWidth  PLength  Pwidth  class\n",
       "30       4.8     3.1      1.6     0.2      0\n",
       "15       5.7     4.4      1.5     0.4      0\n",
       "104      6.5     3.0      5.8     2.2      2\n",
       "6        4.6     3.4      1.4     0.3      0\n",
       "91       6.1     3.0      4.6     1.4      1\n",
       "..       ...     ...      ...     ...    ...\n",
       "99       5.7     2.8      4.1     1.3      1\n",
       "72       6.3     2.5      4.9     1.5      1\n",
       "49       5.0     3.3      1.4     0.2      0\n",
       "21       5.1     3.7      1.5     0.4      0\n",
       "45       4.8     3.0      1.4     0.3      0\n",
       "\n",
       "[142 rows x 5 columns]"
      ]
     },
     "execution_count": 10,
     "metadata": {},
     "output_type": "execute_result"
    }
   ],
   "source": [
    "# once we compute euclidean distance ,we need class labels after sorting,so that we can understand which is which.so we concat\n",
    "combined_df =pd.concat([X_train,y_train],axis=1)\n",
    "combined_df"
   ]
  },
  {
   "cell_type": "code",
   "execution_count": 11,
   "metadata": {},
   "outputs": [
    {
     "name": "stdout",
     "output_type": "stream",
     "text": [
      "[4.8 3.1 1.6 0.2]\n",
      "[5.7 4.4 1.5 0.4]\n",
      "[6.5 3.  5.8 2.2]\n",
      "[4.6 3.4 1.4 0.3]\n",
      "[6.1 3.  4.6 1.4]\n",
      "[4.6 3.2 1.4 0.2]\n",
      "[5.5 2.4 3.8 1.1]\n",
      "[6.4 2.8 5.6 2.1]\n",
      "[4.6 3.6 1.  0.2]\n",
      "[7.7 2.6 6.9 2.3]\n",
      "[5.  3.4 1.5 0.2]\n",
      "[4.9 3.1 1.5 0.1]\n",
      "[6.5 3.  5.2 2. ]\n",
      "[4.4 3.2 1.3 0.2]\n",
      "[5.4 3.4 1.5 0.4]\n",
      "[4.8 3.  1.4 0.1]\n",
      "[5.2 4.1 1.5 0.1]\n",
      "[6.9 3.1 5.1 2.3]\n",
      "[4.9 2.5 4.5 1.7]\n",
      "[4.9 3.1 1.5 0.1]\n",
      "[6.5 3.2 5.1 2. ]\n",
      "[6.6 2.9 4.6 1.3]\n",
      "[5.9 3.2 4.8 1.8]\n",
      "[6.  2.2 5.  1.5]\n",
      "[5.  2.  3.5 1. ]\n",
      "[6.3 3.3 4.7 1.6]\n",
      "[5.2 2.7 3.9 1.4]\n",
      "[6.3 2.8 5.1 1.5]\n",
      "[5.4 3.7 1.5 0.2]\n",
      "[5.8 2.7 5.1 1.9]\n",
      "[5.6 2.7 4.2 1.3]\n",
      "[4.8 3.4 1.9 0.2]\n",
      "[5.6 2.8 4.9 2. ]\n",
      "[5.4 3.4 1.7 0.2]\n",
      "[5.9 3.  4.2 1.5]\n",
      "[5.7 2.9 4.2 1.3]\n",
      "[6.  2.2 4.  1. ]\n",
      "[6.  2.9 4.5 1.5]\n",
      "[4.9 3.  1.4 0.2]\n",
      "[6.3 2.7 4.9 1.8]\n",
      "[4.9 3.1 1.5 0.1]\n",
      "[5.4 3.9 1.3 0.4]\n",
      "[5.1 3.8 1.9 0.4]\n",
      "[6.4 2.7 5.3 1.9]\n",
      "[5.6 2.9 3.6 1.3]\n",
      "[5.8 2.7 4.1 1. ]\n",
      "[6.7 3.1 4.7 1.5]\n",
      "[5.5 4.2 1.4 0.2]\n",
      "[5.4 3.  4.5 1.5]\n",
      "[5.1 3.3 1.7 0.5]\n",
      "[4.7 3.2 1.6 0.2]\n",
      "[4.5 2.3 1.3 0.3]\n",
      "[5.  2.3 3.3 1. ]\n",
      "[5.1 3.5 1.4 0.3]\n",
      "[7.1 3.  5.9 2.1]\n",
      "[6.5 2.8 4.6 1.5]\n",
      "[6.1 2.8 4.  1.3]\n",
      "[5.8 2.7 3.9 1.2]\n",
      "[5.  3.  1.6 0.2]\n",
      "[5.5 2.3 4.  1.3]\n",
      "[6.4 2.8 5.6 2.2]\n",
      "[6.1 3.  4.9 1.8]\n",
      "[5.5 2.4 3.7 1. ]\n",
      "[5.3 3.7 1.5 0.2]\n",
      "[6.3 3.4 5.6 2.4]\n",
      "[6.  3.  4.8 1.8]\n",
      "[5.  3.6 1.4 0.2]\n",
      "[4.3 3.  1.1 0.1]\n",
      "[7.7 3.8 6.7 2.2]\n",
      "[5.1 3.4 1.5 0.2]\n",
      "[5.5 3.5 1.3 0.2]\n",
      "[6.7 3.3 5.7 2.1]\n",
      "[6.1 2.8 4.7 1.2]\n",
      "[6.8 2.8 4.8 1.4]\n",
      "[6.3 2.5 5.  1.9]\n",
      "[6.9 3.1 5.4 2.1]\n",
      "[6.8 3.2 5.9 2.3]\n",
      "[6.9 3.2 5.7 2.3]\n",
      "[5.8 2.6 4.  1.2]\n",
      "[7.7 2.8 6.7 2. ]\n",
      "[5.1 3.8 1.5 0.3]\n",
      "[7.9 3.8 6.4 2. ]\n",
      "[5.5 2.6 4.4 1.2]\n",
      "[5.7 2.8 4.5 1.3]\n",
      "[6.1 2.9 4.7 1.4]\n",
      "[7.2 3.  5.8 1.6]\n",
      "[6.6 3.  4.4 1.4]\n",
      "[5.7 3.  4.2 1.2]\n",
      "[7.7 3.  6.1 2.3]\n",
      "[5.  3.5 1.3 0.3]\n",
      "[5.  3.2 1.2 0.2]\n",
      "[4.4 2.9 1.4 0.2]\n",
      "[7.6 3.  6.6 2.1]\n",
      "[7.  3.2 4.7 1.4]\n",
      "[6.8 3.  5.5 2.1]\n",
      "[5.1 2.5 3.  1.1]\n",
      "[6.  3.4 4.5 1.6]\n",
      "[5.8 2.7 5.1 1.9]\n",
      "[5.4 3.9 1.7 0.4]\n",
      "[6.2 2.2 4.5 1.5]\n",
      "[6.3 2.3 4.4 1.3]\n",
      "[5.  3.4 1.6 0.4]\n",
      "[6.7 3.  5.2 2.3]\n",
      "[6.9 3.1 4.9 1.5]\n",
      "[6.4 3.1 5.5 1.8]\n",
      "[4.7 3.2 1.3 0.2]\n",
      "[5.7 2.5 5.  2. ]\n",
      "[4.6 3.1 1.5 0.2]\n",
      "[5.8 2.8 5.1 2.4]\n",
      "[6.2 2.9 4.3 1.3]\n",
      "[6.4 2.9 4.3 1.3]\n",
      "[7.4 2.8 6.1 1.9]\n",
      "[5.1 3.8 1.6 0.2]\n",
      "[6.4 3.2 5.3 2.3]\n",
      "[5.5 2.5 4.  1.3]\n",
      "[6.3 3.3 6.  2.5]\n",
      "[4.8 3.4 1.6 0.2]\n",
      "[5.  3.5 1.6 0.6]\n",
      "[5.9 3.  5.1 1.8]\n",
      "[6.7 3.3 5.7 2.5]\n",
      "[6.3 2.9 5.6 1.8]\n",
      "[5.6 3.  4.5 1.5]\n",
      "[4.9 2.4 3.3 1. ]\n",
      "[7.2 3.2 6.  1.8]\n",
      "[6.2 2.8 4.8 1.8]\n",
      "[6.7 3.1 4.4 1.4]\n",
      "[6.7 2.5 5.8 1.8]\n",
      "[5.2 3.5 1.5 0.2]\n",
      "[5.6 3.  4.1 1.3]\n",
      "[5.7 3.8 1.7 0.3]\n",
      "[7.2 3.6 6.1 2.5]\n",
      "[6.2 3.4 5.4 2.3]\n",
      "[6.7 3.1 5.6 2.4]\n",
      "[5.7 2.6 3.5 1. ]\n",
      "[4.4 3.  1.3 0.2]\n",
      "[6.  2.7 5.1 1.6]\n",
      "[5.1 3.5 1.4 0.2]\n",
      "[5.7 2.8 4.1 1.3]\n",
      "[6.3 2.5 4.9 1.5]\n",
      "[5.  3.3 1.4 0.2]\n",
      "[5.1 3.7 1.5 0.4]\n",
      "[4.8 3.  1.4 0.3]\n"
     ]
    }
   ],
   "source": [
    "class_labels=[]\n",
    "distance_values=[]\n",
    "for index,row in combined_df.iterrows():\n",
    "    feature_values =row.values[:-1]#exclude class labels\n",
    "    print(feature_values,end='\\n')\n"
   ]
  },
  {
   "cell_type": "code",
   "execution_count": null,
   "metadata": {},
   "outputs": [],
   "source": [
    "import numpy as np\n",
    "for index,row in X_test.iterrows():\n",
    "    distance_values =[]\n",
    "    test_set_vector=row.values\n",
    "    #the next step is to compute the euclidean distance of the sample vector with each of the vectors present in the training set\n",
    "    for indexx,roww in combined_df.iterrows():\n",
    "        training_sample = roww.values[:-1]\n",
    "        # we are using dot product\n",
    "        #test_vector = [x1 x2 x3]  , traing sample =[y1 y2 y3]  -> dot product = [x1y1 x2y2 x3y3]\n",
    "        #training_sample - test_vestor = [y1-x1 y2-x2 y3-x3]\n",
    "        #dot producting itself will gives =[(y1-x1)**2,(y2-x2)**2,]\n",
    "\n",
    "        euclidean_distance =np.dot(training_sample-test_set_vector,training_sample-test_set_vector)**0.5\n",
    "\n",
    "        distance_values.append(euclidean_distance) \n",
    "        #after the completion of the inner loop, distances_values will store the euclidean distance\n",
    "        # of the test_set_vector with all feature training sampls present in my training set.\n",
    "        #Essentially \"test_set_vector\" will have 142 distance values (142,5)\n",
    "\n",
    "    #temp_df=combined_df.copy()\n",
    "    #creating new row to store distance \n",
    "    combined_df['distance'] = distance_values\n",
    "    sorted_df = combined_df.sort_values(by='distance',ascending=True)\n",
    "    top_K_near = sorted_df.head(5)#k=5\n",
    "\n",
    "    class_label = top_K_near['class'].value_counts(ascending=False).index[0] \n",
    "    class_labels.append(class_label)\n",
    "    #after 1st iteration,combined_df will have new column distance.we have to drop that inorder to perform the dot product in following iterations,because otherwise shape will change\n",
    "    combined_df =combined_df.drop(columns=['distance'])\n",
    "\n"
   ]
  },
  {
   "cell_type": "code",
   "execution_count": 13,
   "metadata": {},
   "outputs": [],
   "source": [
    "class_labels_series_obj =pd.Series(class_labels)"
   ]
  },
  {
   "cell_type": "code",
   "execution_count": 14,
   "metadata": {},
   "outputs": [
    {
     "name": "stdout",
     "output_type": "stream",
     "text": [
      "              precision    recall  f1-score   support\n",
      "\n",
      "           0       1.00      1.00      1.00         2\n",
      "           1       1.00      1.00      1.00         3\n",
      "           2       1.00      1.00      1.00         3\n",
      "\n",
      "    accuracy                           1.00         8\n",
      "   macro avg       1.00      1.00      1.00         8\n",
      "weighted avg       1.00      1.00      1.00         8\n",
      "\n"
     ]
    }
   ],
   "source": [
    "from sklearn.metrics import classification_report\n",
    "print(classification_report(y_test,class_labels_series_obj))"
   ]
  },
  {
   "cell_type": "markdown",
   "metadata": {},
   "source": [
    "From library"
   ]
  },
  {
   "cell_type": "code",
   "execution_count": 16,
   "metadata": {},
   "outputs": [],
   "source": [
    "from sklearn.neighbors import KNeighborsClassifier\n",
    "knn_object = KNeighborsClassifier(n_neighbors=5)"
   ]
  },
  {
   "cell_type": "code",
   "execution_count": 17,
   "metadata": {},
   "outputs": [
    {
     "data": {
      "text/plain": [
       "array([1, 0, 2, 2, 1, 0, 1, 2], dtype=int64)"
      ]
     },
     "execution_count": 17,
     "metadata": {},
     "output_type": "execute_result"
    }
   ],
   "source": [
    "knn_object.fit(X_train,y_train)\n",
    "class_labels= knn_object.predict(X_test)\n",
    "class_labels"
   ]
  },
  {
   "cell_type": "code",
   "execution_count": 18,
   "metadata": {},
   "outputs": [
    {
     "name": "stdout",
     "output_type": "stream",
     "text": [
      "              precision    recall  f1-score   support\n",
      "\n",
      "           0       1.00      1.00      1.00         2\n",
      "           1       1.00      1.00      1.00         3\n",
      "           2       1.00      1.00      1.00         3\n",
      "\n",
      "    accuracy                           1.00         8\n",
      "   macro avg       1.00      1.00      1.00         8\n",
      "weighted avg       1.00      1.00      1.00         8\n",
      "\n"
     ]
    }
   ],
   "source": [
    "print(classification_report(class_labels,y_test))"
   ]
  },
  {
   "cell_type": "code",
   "execution_count": null,
   "metadata": {},
   "outputs": [],
   "source": [
    "knn_obj2 =KNeighborsClassifier(n_neighbors=10,p=1) #p "
   ]
  },
  {
   "cell_type": "code",
   "execution_count": 20,
   "metadata": {},
   "outputs": [],
   "source": [
    "knn_obj2.fit(X_train,y_train)\n",
    "class_labels= knn_obj2.predict(X_test)"
   ]
  },
  {
   "cell_type": "code",
   "execution_count": 21,
   "metadata": {},
   "outputs": [
    {
     "name": "stdout",
     "output_type": "stream",
     "text": [
      "              precision    recall  f1-score   support\n",
      "\n",
      "           0       1.00      1.00      1.00         2\n",
      "           1       0.67      1.00      0.80         2\n",
      "           2       1.00      0.75      0.86         4\n",
      "\n",
      "    accuracy                           0.88         8\n",
      "   macro avg       0.89      0.92      0.89         8\n",
      "weighted avg       0.92      0.88      0.88         8\n",
      "\n"
     ]
    }
   ],
   "source": [
    "print(classification_report(class_labels,y_test))"
   ]
  },
  {
   "cell_type": "code",
   "execution_count": null,
   "metadata": {},
   "outputs": [],
   "source": []
  }
 ],
 "metadata": {
  "kernelspec": {
   "display_name": "Python 3",
   "language": "python",
   "name": "python3"
  },
  "language_info": {
   "codemirror_mode": {
    "name": "ipython",
    "version": 3
   },
   "file_extension": ".py",
   "mimetype": "text/x-python",
   "name": "python",
   "nbconvert_exporter": "python",
   "pygments_lexer": "ipython3",
   "version": "3.10.16"
  }
 },
 "nbformat": 4,
 "nbformat_minor": 2
}
